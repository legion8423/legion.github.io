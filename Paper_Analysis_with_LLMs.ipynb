{
  "nbformat": 4,
  "nbformat_minor": 0,
  "metadata": {
    "colab": {
      "provenance": [],
      "authorship_tag": "ABX9TyPk2RQNw8eV/54NJCvrWa56",
      "include_colab_link": true
    },
    "kernelspec": {
      "name": "python3",
      "display_name": "Python 3"
    },
    "language_info": {
      "name": "python"
    }
  },
  "cells": [
    {
      "cell_type": "markdown",
      "metadata": {
        "id": "view-in-github",
        "colab_type": "text"
      },
      "source": [
        "<a href=\"https://colab.research.google.com/github/legion8423/legion.github.io/blob/main/Paper_Analysis_with_LLMs.ipynb\" target=\"_parent\"><img src=\"https://colab.research.google.com/assets/colab-badge.svg\" alt=\"Open In Colab\"/></a>"
      ]
    },
    {
      "cell_type": "code",
      "source": [
        "# Usa ! para ejecutar comandos de terminal\n",
        "!cd \"C:/Users/Fabrizio/Documents/GitHub/Data-Science-Python/homework/hw4/259359_hw4_2025_1\"\n"
      ],
      "metadata": {
        "colab": {
          "base_uri": "https://localhost:8080/"
        },
        "id": "aiF3yQkFQbtI",
        "outputId": "c7ef015a-201c-45dd-80b1-af009b79693a"
      },
      "execution_count": 22,
      "outputs": [
        {
          "output_type": "stream",
          "name": "stdout",
          "text": [
            "/bin/bash: line 1: cd: C:/Users/Fabrizio/Documents/GitHub/Data-Science-Python/homework/hw4/259359_hw4_2025_1: No such file or directory\n"
          ]
        }
      ]
    },
    {
      "cell_type": "code",
      "execution_count": 1,
      "metadata": {
        "colab": {
          "base_uri": "https://localhost:8080/"
        },
        "id": "bkEK-sTfBTON",
        "outputId": "9e4d64bd-3cdb-40bb-e740-8b2403401405"
      },
      "outputs": [
        {
          "output_type": "stream",
          "name": "stdout",
          "text": [
            "Collecting pymupdf\n",
            "  Downloading pymupdf-1.26.0-cp39-abi3-manylinux2014_x86_64.manylinux_2_17_x86_64.whl.metadata (3.4 kB)\n",
            "Requirement already satisfied: openai in /usr/local/lib/python3.11/dist-packages (1.82.1)\n",
            "Requirement already satisfied: anyio<5,>=3.5.0 in /usr/local/lib/python3.11/dist-packages (from openai) (4.9.0)\n",
            "Requirement already satisfied: distro<2,>=1.7.0 in /usr/local/lib/python3.11/dist-packages (from openai) (1.9.0)\n",
            "Requirement already satisfied: httpx<1,>=0.23.0 in /usr/local/lib/python3.11/dist-packages (from openai) (0.28.1)\n",
            "Requirement already satisfied: jiter<1,>=0.4.0 in /usr/local/lib/python3.11/dist-packages (from openai) (0.10.0)\n",
            "Requirement already satisfied: pydantic<3,>=1.9.0 in /usr/local/lib/python3.11/dist-packages (from openai) (2.11.5)\n",
            "Requirement already satisfied: sniffio in /usr/local/lib/python3.11/dist-packages (from openai) (1.3.1)\n",
            "Requirement already satisfied: tqdm>4 in /usr/local/lib/python3.11/dist-packages (from openai) (4.67.1)\n",
            "Requirement already satisfied: typing-extensions<5,>=4.11 in /usr/local/lib/python3.11/dist-packages (from openai) (4.13.2)\n",
            "Requirement already satisfied: idna>=2.8 in /usr/local/lib/python3.11/dist-packages (from anyio<5,>=3.5.0->openai) (3.10)\n",
            "Requirement already satisfied: certifi in /usr/local/lib/python3.11/dist-packages (from httpx<1,>=0.23.0->openai) (2025.4.26)\n",
            "Requirement already satisfied: httpcore==1.* in /usr/local/lib/python3.11/dist-packages (from httpx<1,>=0.23.0->openai) (1.0.9)\n",
            "Requirement already satisfied: h11>=0.16 in /usr/local/lib/python3.11/dist-packages (from httpcore==1.*->httpx<1,>=0.23.0->openai) (0.16.0)\n",
            "Requirement already satisfied: annotated-types>=0.6.0 in /usr/local/lib/python3.11/dist-packages (from pydantic<3,>=1.9.0->openai) (0.7.0)\n",
            "Requirement already satisfied: pydantic-core==2.33.2 in /usr/local/lib/python3.11/dist-packages (from pydantic<3,>=1.9.0->openai) (2.33.2)\n",
            "Requirement already satisfied: typing-inspection>=0.4.0 in /usr/local/lib/python3.11/dist-packages (from pydantic<3,>=1.9.0->openai) (0.4.1)\n",
            "Downloading pymupdf-1.26.0-cp39-abi3-manylinux2014_x86_64.manylinux_2_17_x86_64.whl (24.1 MB)\n",
            "\u001b[2K   \u001b[90m━━━━━━━━━━━━━━━━━━━━━━━━━━━━━━━━━━━━━━━━\u001b[0m \u001b[32m24.1/24.1 MB\u001b[0m \u001b[31m44.4 MB/s\u001b[0m eta \u001b[36m0:00:00\u001b[0m\n",
            "\u001b[?25hInstalling collected packages: pymupdf\n",
            "Successfully installed pymupdf-1.26.0\n"
          ]
        }
      ],
      "source": [
        "# Instalamos la librería para leer PDFs\n",
        "!pip install pymupdf openai"
      ]
    },
    {
      "cell_type": "code",
      "source": [
        "!pip install --upgrade openai pymupdf"
      ],
      "metadata": {
        "colab": {
          "base_uri": "https://localhost:8080/"
        },
        "id": "cJl2Y8TtFY7V",
        "outputId": "1314f0b3-e936-44dc-8187-67e60d3c872f"
      },
      "execution_count": 8,
      "outputs": [
        {
          "output_type": "stream",
          "name": "stdout",
          "text": [
            "Requirement already satisfied: openai in /usr/local/lib/python3.11/dist-packages (1.82.1)\n",
            "Collecting openai\n",
            "  Downloading openai-1.84.0-py3-none-any.whl.metadata (25 kB)\n",
            "Requirement already satisfied: pymupdf in /usr/local/lib/python3.11/dist-packages (1.26.0)\n",
            "Requirement already satisfied: anyio<5,>=3.5.0 in /usr/local/lib/python3.11/dist-packages (from openai) (4.9.0)\n",
            "Requirement already satisfied: distro<2,>=1.7.0 in /usr/local/lib/python3.11/dist-packages (from openai) (1.9.0)\n",
            "Requirement already satisfied: httpx<1,>=0.23.0 in /usr/local/lib/python3.11/dist-packages (from openai) (0.28.1)\n",
            "Requirement already satisfied: jiter<1,>=0.4.0 in /usr/local/lib/python3.11/dist-packages (from openai) (0.10.0)\n",
            "Requirement already satisfied: pydantic<3,>=1.9.0 in /usr/local/lib/python3.11/dist-packages (from openai) (2.11.5)\n",
            "Requirement already satisfied: sniffio in /usr/local/lib/python3.11/dist-packages (from openai) (1.3.1)\n",
            "Requirement already satisfied: tqdm>4 in /usr/local/lib/python3.11/dist-packages (from openai) (4.67.1)\n",
            "Requirement already satisfied: typing-extensions<5,>=4.11 in /usr/local/lib/python3.11/dist-packages (from openai) (4.13.2)\n",
            "Requirement already satisfied: idna>=2.8 in /usr/local/lib/python3.11/dist-packages (from anyio<5,>=3.5.0->openai) (3.10)\n",
            "Requirement already satisfied: certifi in /usr/local/lib/python3.11/dist-packages (from httpx<1,>=0.23.0->openai) (2025.4.26)\n",
            "Requirement already satisfied: httpcore==1.* in /usr/local/lib/python3.11/dist-packages (from httpx<1,>=0.23.0->openai) (1.0.9)\n",
            "Requirement already satisfied: h11>=0.16 in /usr/local/lib/python3.11/dist-packages (from httpcore==1.*->httpx<1,>=0.23.0->openai) (0.16.0)\n",
            "Requirement already satisfied: annotated-types>=0.6.0 in /usr/local/lib/python3.11/dist-packages (from pydantic<3,>=1.9.0->openai) (0.7.0)\n",
            "Requirement already satisfied: pydantic-core==2.33.2 in /usr/local/lib/python3.11/dist-packages (from pydantic<3,>=1.9.0->openai) (2.33.2)\n",
            "Requirement already satisfied: typing-inspection>=0.4.0 in /usr/local/lib/python3.11/dist-packages (from pydantic<3,>=1.9.0->openai) (0.4.1)\n",
            "Downloading openai-1.84.0-py3-none-any.whl (725 kB)\n",
            "\u001b[2K   \u001b[90m━━━━━━━━━━━━━━━━━━━━━━━━━━━━━━━━━━━━━━━━\u001b[0m \u001b[32m725.5/725.5 kB\u001b[0m \u001b[31m9.7 MB/s\u001b[0m eta \u001b[36m0:00:00\u001b[0m\n",
            "\u001b[?25hInstalling collected packages: openai\n",
            "  Attempting uninstall: openai\n",
            "    Found existing installation: openai 1.82.1\n",
            "    Uninstalling openai-1.82.1:\n",
            "      Successfully uninstalled openai-1.82.1\n",
            "Successfully installed openai-1.84.0\n"
          ]
        }
      ]
    },
    {
      "cell_type": "code",
      "source": [
        "#Subida del PDF y extracción del texto con PyMuPDF\n",
        "import fitz  # PyMuPDF\n",
        "from google.colab import files\n",
        "\n",
        "uploaded = files.upload()\n",
        "pdf_filename = next(iter(uploaded))\n",
        "\n",
        "doc = fitz.open(pdf_filename)\n",
        "\n",
        "text = \"\"\n",
        "for page in doc:\n",
        "    text += page.get_text()\n",
        "\n",
        "print(text[:1000])  # Vista previa"
      ],
      "metadata": {
        "colab": {
          "base_uri": "https://localhost:8080/",
          "height": 292
        },
        "id": "6uid-P7OElS5",
        "outputId": "107749db-098f-445f-f4ed-15a387e8918a"
      },
      "execution_count": 9,
      "outputs": [
        {
          "output_type": "display_data",
          "data": {
            "text/plain": [
              "<IPython.core.display.HTML object>"
            ],
            "text/html": [
              "\n",
              "     <input type=\"file\" id=\"files-5b38245a-f36b-41b7-896e-7f3c0dedf5c5\" name=\"files[]\" multiple disabled\n",
              "        style=\"border:none\" />\n",
              "     <output id=\"result-5b38245a-f36b-41b7-896e-7f3c0dedf5c5\">\n",
              "      Upload widget is only available when the cell has been executed in the\n",
              "      current browser session. Please rerun this cell to enable.\n",
              "      </output>\n",
              "      <script>// Copyright 2017 Google LLC\n",
              "//\n",
              "// Licensed under the Apache License, Version 2.0 (the \"License\");\n",
              "// you may not use this file except in compliance with the License.\n",
              "// You may obtain a copy of the License at\n",
              "//\n",
              "//      http://www.apache.org/licenses/LICENSE-2.0\n",
              "//\n",
              "// Unless required by applicable law or agreed to in writing, software\n",
              "// distributed under the License is distributed on an \"AS IS\" BASIS,\n",
              "// WITHOUT WARRANTIES OR CONDITIONS OF ANY KIND, either express or implied.\n",
              "// See the License for the specific language governing permissions and\n",
              "// limitations under the License.\n",
              "\n",
              "/**\n",
              " * @fileoverview Helpers for google.colab Python module.\n",
              " */\n",
              "(function(scope) {\n",
              "function span(text, styleAttributes = {}) {\n",
              "  const element = document.createElement('span');\n",
              "  element.textContent = text;\n",
              "  for (const key of Object.keys(styleAttributes)) {\n",
              "    element.style[key] = styleAttributes[key];\n",
              "  }\n",
              "  return element;\n",
              "}\n",
              "\n",
              "// Max number of bytes which will be uploaded at a time.\n",
              "const MAX_PAYLOAD_SIZE = 100 * 1024;\n",
              "\n",
              "function _uploadFiles(inputId, outputId) {\n",
              "  const steps = uploadFilesStep(inputId, outputId);\n",
              "  const outputElement = document.getElementById(outputId);\n",
              "  // Cache steps on the outputElement to make it available for the next call\n",
              "  // to uploadFilesContinue from Python.\n",
              "  outputElement.steps = steps;\n",
              "\n",
              "  return _uploadFilesContinue(outputId);\n",
              "}\n",
              "\n",
              "// This is roughly an async generator (not supported in the browser yet),\n",
              "// where there are multiple asynchronous steps and the Python side is going\n",
              "// to poll for completion of each step.\n",
              "// This uses a Promise to block the python side on completion of each step,\n",
              "// then passes the result of the previous step as the input to the next step.\n",
              "function _uploadFilesContinue(outputId) {\n",
              "  const outputElement = document.getElementById(outputId);\n",
              "  const steps = outputElement.steps;\n",
              "\n",
              "  const next = steps.next(outputElement.lastPromiseValue);\n",
              "  return Promise.resolve(next.value.promise).then((value) => {\n",
              "    // Cache the last promise value to make it available to the next\n",
              "    // step of the generator.\n",
              "    outputElement.lastPromiseValue = value;\n",
              "    return next.value.response;\n",
              "  });\n",
              "}\n",
              "\n",
              "/**\n",
              " * Generator function which is called between each async step of the upload\n",
              " * process.\n",
              " * @param {string} inputId Element ID of the input file picker element.\n",
              " * @param {string} outputId Element ID of the output display.\n",
              " * @return {!Iterable<!Object>} Iterable of next steps.\n",
              " */\n",
              "function* uploadFilesStep(inputId, outputId) {\n",
              "  const inputElement = document.getElementById(inputId);\n",
              "  inputElement.disabled = false;\n",
              "\n",
              "  const outputElement = document.getElementById(outputId);\n",
              "  outputElement.innerHTML = '';\n",
              "\n",
              "  const pickedPromise = new Promise((resolve) => {\n",
              "    inputElement.addEventListener('change', (e) => {\n",
              "      resolve(e.target.files);\n",
              "    });\n",
              "  });\n",
              "\n",
              "  const cancel = document.createElement('button');\n",
              "  inputElement.parentElement.appendChild(cancel);\n",
              "  cancel.textContent = 'Cancel upload';\n",
              "  const cancelPromise = new Promise((resolve) => {\n",
              "    cancel.onclick = () => {\n",
              "      resolve(null);\n",
              "    };\n",
              "  });\n",
              "\n",
              "  // Wait for the user to pick the files.\n",
              "  const files = yield {\n",
              "    promise: Promise.race([pickedPromise, cancelPromise]),\n",
              "    response: {\n",
              "      action: 'starting',\n",
              "    }\n",
              "  };\n",
              "\n",
              "  cancel.remove();\n",
              "\n",
              "  // Disable the input element since further picks are not allowed.\n",
              "  inputElement.disabled = true;\n",
              "\n",
              "  if (!files) {\n",
              "    return {\n",
              "      response: {\n",
              "        action: 'complete',\n",
              "      }\n",
              "    };\n",
              "  }\n",
              "\n",
              "  for (const file of files) {\n",
              "    const li = document.createElement('li');\n",
              "    li.append(span(file.name, {fontWeight: 'bold'}));\n",
              "    li.append(span(\n",
              "        `(${file.type || 'n/a'}) - ${file.size} bytes, ` +\n",
              "        `last modified: ${\n",
              "            file.lastModifiedDate ? file.lastModifiedDate.toLocaleDateString() :\n",
              "                                    'n/a'} - `));\n",
              "    const percent = span('0% done');\n",
              "    li.appendChild(percent);\n",
              "\n",
              "    outputElement.appendChild(li);\n",
              "\n",
              "    const fileDataPromise = new Promise((resolve) => {\n",
              "      const reader = new FileReader();\n",
              "      reader.onload = (e) => {\n",
              "        resolve(e.target.result);\n",
              "      };\n",
              "      reader.readAsArrayBuffer(file);\n",
              "    });\n",
              "    // Wait for the data to be ready.\n",
              "    let fileData = yield {\n",
              "      promise: fileDataPromise,\n",
              "      response: {\n",
              "        action: 'continue',\n",
              "      }\n",
              "    };\n",
              "\n",
              "    // Use a chunked sending to avoid message size limits. See b/62115660.\n",
              "    let position = 0;\n",
              "    do {\n",
              "      const length = Math.min(fileData.byteLength - position, MAX_PAYLOAD_SIZE);\n",
              "      const chunk = new Uint8Array(fileData, position, length);\n",
              "      position += length;\n",
              "\n",
              "      const base64 = btoa(String.fromCharCode.apply(null, chunk));\n",
              "      yield {\n",
              "        response: {\n",
              "          action: 'append',\n",
              "          file: file.name,\n",
              "          data: base64,\n",
              "        },\n",
              "      };\n",
              "\n",
              "      let percentDone = fileData.byteLength === 0 ?\n",
              "          100 :\n",
              "          Math.round((position / fileData.byteLength) * 100);\n",
              "      percent.textContent = `${percentDone}% done`;\n",
              "\n",
              "    } while (position < fileData.byteLength);\n",
              "  }\n",
              "\n",
              "  // All done.\n",
              "  yield {\n",
              "    response: {\n",
              "      action: 'complete',\n",
              "    }\n",
              "  };\n",
              "}\n",
              "\n",
              "scope.google = scope.google || {};\n",
              "scope.google.colab = scope.google.colab || {};\n",
              "scope.google.colab._files = {\n",
              "  _uploadFiles,\n",
              "  _uploadFilesContinue,\n",
              "};\n",
              "})(self);\n",
              "</script> "
            ]
          },
          "metadata": {}
        },
        {
          "output_type": "stream",
          "name": "stdout",
          "text": [
            "Saving IIGeo_24-47_002_Arevalo.pdf to IIGeo_24-47_002_Arevalo (1).pdf\n",
            "© Los autores. Este artículo es publicado por la Revista del Instituto de investigación de la Facultad de minas, metalurgia y ciencias \n",
            "geográficas de la Universidad Nacional Mayor de San Marcos. Este es un artículo de acceso abierto, distribuido bajo los términos de la \n",
            "licencia Creative Commons Atribución 4.0 Internacional (CC BY 4.0) [https://creativecommons.org/licenses/by/4.0/deed.es] que permite \n",
            "el uso, distribución y reproducción en cualquier medio, siempre que la obra original sea debidamente citada de su fuente original. Para \n",
            "mas información, por favor póngase en contacto con iigeo@unmsm.edu.pe\n",
            "Rev. Inst. investig. Fac. minas metal. cienc. geogr. vol 24 n° 47, 2021: 13 - 18\t\n",
            "ISSN-L:1561-0888\n",
            "Cobertura arbórea y captura de dióxido de carbono en los \n",
            "parques urbanos. Caso: Lima Norte\n",
            "Tree cover and carbone dioxide capture in urban parks case: Northern Lima\n",
            "Walter Aparicio Arévalo Gómez 1 , Francisco Alejandro Alcántara Boza 2\n",
            "Recibido: 14/10/2020 - Aprobado: 26/04/2021 – Publi\n"
          ]
        }
      ]
    },
    {
      "cell_type": "code",
      "source": [
        "#Conectar\n",
        "import openai\n",
        "\n",
        "# Definir la API Key\n",
        "client = openai.OpenAI(=\"sk-....\")"
      ],
      "metadata": {
        "id": "bhZjHFL_ExlH"
      },
      "execution_count": 10,
      "outputs": []
    },
    {
      "cell_type": "code",
      "source": [
        "#Función para enviar preguntas al modelo GPT-3.5 (versión actualizada)\n",
        "def ask_gpt_new(prompt, system_message=\"Eres un experto en medio ambiente y políticas públicas.\"):\n",
        "    response = client.chat.completions.create(\n",
        "        model=\"gpt-3.5-turbo\",\n",
        "        messages=[\n",
        "            {\"role\": \"system\", \"content\": system_message},\n",
        "            {\"role\": \"user\", \"content\": prompt}\n",
        "        ],\n",
        "        temperature=0.7\n",
        "    )\n",
        "    return response.choices[0].message.content"
      ],
      "metadata": {
        "id": "w7TLAT2yE2vu"
      },
      "execution_count": 11,
      "outputs": []
    },
    {
      "cell_type": "markdown",
      "source": [
        "**Ingeniería de prompts**\n",
        "\n",
        "Ranking de eficiencia de parques"
      ],
      "metadata": {
        "id": "pTrqZ3iOGBOK"
      }
    },
    {
      "cell_type": "code",
      "source": [
        "#\n",
        "prompt_efficiency = f\"\"\"\n",
        "Con base en el siguiente texto extraído de un paper sobre captura de carbono en parques de Lima Norte:\n",
        "\n",
        "{text[:6000]}\n",
        "\n",
        "Extrae un ranking de los parques más eficientes en captura de CO₂. Explica brevemente por qué cada parque aparece en ese orden.\n",
        "\"\"\"\n",
        "\n",
        "respuesta_ranking = ask_gpt_new(prompt_efficiency)\n",
        "print(respuesta_ranking)"
      ],
      "metadata": {
        "colab": {
          "base_uri": "https://localhost:8080/"
        },
        "id": "pWOBsrU5FyIj",
        "outputId": "3dad236f-2b7f-4305-dd5a-12f5e97aadff"
      },
      "execution_count": 12,
      "outputs": [
        {
          "output_type": "stream",
          "name": "stdout",
          "text": [
            "Para extraer un ranking de los parques más eficientes en captura de CO₂ en Lima Norte, basado en el volumen de CO₂ capturado por metro cuadrado por año, se debe considerar la información proporcionada en el texto. Según el estudio mencionado, los valores obtenidos respecto al volumen de captura de dióxido de carbono en los parques del área de estudio son de 0.34 CO₂/m²-año.\n",
            "\n",
            "Considerando estos valores, se puede formular un ranking de los parques más eficientes en captura de CO₂ de la siguiente manera:\n",
            "\n",
            "1. Los Olivos - Con una cobertura arbórea adecuada de 5.1m²/habitante, este parque destaca por ser uno de los más eficientes en la captura de CO₂ en la zona de Lima Norte.\n",
            "\n",
            "2. Comas - A pesar de tener una cobertura arbórea menor que Los Olivos, con 3.9m²/habitante, el parque de Comas se posiciona en el segundo lugar debido a su eficiencia en la captura de CO₂.\n",
            "\n",
            "3. San Martín de Porres - Con una cobertura arbórea de 2.2m²/habitante, este parque se ubica en el tercer lugar en términos de captura de CO₂.\n",
            "\n",
            "4. Independencia - Aunque presenta una cobertura arbórea de 1.2m²/habitante, el parque de Independencia logra capturar una cantidad significativa de CO₂, posicionándose en el cuarto lugar.\n",
            "\n",
            "5. Puente Piedra - A pesar de tener la menor cobertura arbórea de 1.3m²/habitante, el parque de Puente Piedra se sitúa en el quinto lugar en términos de captura de CO₂.\n",
            "\n",
            "Es importante destacar que estos parques se consideran eficientes en la captura de CO₂ en base a los datos proporcionados en el estudio, que muestran una relación positiva entre la cobertura arbórea y la captura de carbono. Sin embargo, es necesario continuar trabajando en la planificación y mantenimiento de áreas verdes en Lima Norte para mejorar la eficiencia en la captura de CO₂ y contribuir a la sostenibilidad ambiental de la zona.\n"
          ]
        }
      ]
    },
    {
      "cell_type": "markdown",
      "source": [
        " Recomendación de especies óptimas"
      ],
      "metadata": {
        "id": "cHnzSAM5GKgZ"
      }
    },
    {
      "cell_type": "code",
      "source": [
        "prompt_species = f\"\"\"\n",
        "Del siguiente estudio sobre parques urbanos en Lima Norte:\n",
        "\n",
        "{text[:6000]}\n",
        "\n",
        "¿Qué especies de árboles son óptimas para capturar CO₂ en áreas urbanas? Justifica tu respuesta.\n",
        "\"\"\"\n",
        "\n",
        "respuesta_species = ask_gpt_new(prompt_species)\n",
        "print(respuesta_species)"
      ],
      "metadata": {
        "colab": {
          "base_uri": "https://localhost:8080/"
        },
        "id": "S72RsYD6F9ya",
        "outputId": "c87f861e-962d-4cfe-cca7-2012f32cd40c"
      },
      "execution_count": 13,
      "outputs": [
        {
          "output_type": "stream",
          "name": "stdout",
          "text": [
            "En general, las especies de árboles que son más efectivas en la captura de dióxido de carbono (CO2) en áreas urbanas son aquellas que presentan un crecimiento rápido, una gran densidad de follaje y una alta capacidad de absorción de carbono. Algunas de las especies más recomendadas para este propósito incluyen:\n",
            "\n",
            "1. Árboles frondosos de hoja caduca: Especies como el arce, el roble, el fresno y el tilo son excelentes opciones, ya que tienen un follaje denso que permite una mayor captura de CO2 durante la temporada de crecimiento.\n",
            "\n",
            "2. Árboles coníferos: Pinos, abetos y cedros son ejemplos de especies de coníferas que también son eficaces en la captura de carbono, ya que mantienen su follaje durante todo el año y tienen una alta tasa de fotosíntesis.\n",
            "\n",
            "3. Árboles frutales: Algunos árboles frutales como los manzanos, perales y cerezos también pueden ser beneficiosos en la captura de CO2, además de aportar alimentos para la biodiversidad urbana.\n",
            "\n",
            "Es importante considerar que la diversidad de especies en un área verde urbana es fundamental para promover la resiliencia de los ecosistemas urbanos y reducir la vulnerabilidad a plagas y enfermedades. Por lo tanto, se recomienda la plantación de una variedad de especies de árboles en parques urbanos para maximizar la captura de CO2 y promover la biodiversidad.\n"
          ]
        }
      ]
    },
    {
      "cell_type": "markdown",
      "source": [
        "Diagnóstico por distrito"
      ],
      "metadata": {
        "id": "U9IyOStmGPPA"
      }
    },
    {
      "cell_type": "code",
      "source": [
        "prompt_distritos = f\"\"\"\n",
        "Con base en el siguiente contenido:\n",
        "\n",
        "{text[:6000]}\n",
        "\n",
        "Proporciona un diagnóstico por distrito sobre la cobertura arbórea y eficiencia de captura de carbono en los parques urbanos de Lima Norte.\n",
        "\"\"\"\n",
        "\n",
        "respuesta_distritos = ask_gpt_new(prompt_distritos)\n",
        "print(respuesta_distritos)"
      ],
      "metadata": {
        "colab": {
          "base_uri": "https://localhost:8080/"
        },
        "id": "T9eVQkDaGPtC",
        "outputId": "1760f612-3544-4647-e53a-f76c1a98ea8d"
      },
      "execution_count": 14,
      "outputs": [
        {
          "output_type": "stream",
          "name": "stdout",
          "text": [
            "Basándome en la información proporcionada en el artículo sobre la cobertura arbórea y la captura de dióxido de carbono en los parques urbanos de Lima Norte, se puede observar que existen diferencias significativas en la cantidad de áreas verdes por habitante en los distintos distritos de Lima Norte. \n",
            "\n",
            "- En Puente Piedra, se destina 1.3 m² por habitante para áreas verdes.\n",
            "- En Independencia, se destina 1.2 m² por habitante para áreas verdes.\n",
            "- En San Martín de Porres, se destina 2.2 m² por habitante para áreas verdes.\n",
            "- En Los Olivos, se destina 5.1 m² por habitante para áreas verdes.\n",
            "- En Comas, se destina 3.9 m² por habitante para áreas verdes.\n",
            "\n",
            "Estos datos reflejan deficiencias en la planificación urbana de Lima Norte, ya que la mayoría de los distritos no cuentan con cantidades adecuadas de áreas verdes, lo que limita su funcionalidad ambiental y puede tener efectos negativos en la calidad del aire. Es importante tener en cuenta que los parques urbanos juegan un papel crucial en la captura de carbono y en la mejora de la calidad ambiental de las ciudades.\n",
            "\n",
            "Además, se menciona que Lima Norte es una zona con malos indicadores de calidad del aire en material particulado, lo que resalta la importancia de aumentar la cobertura arbórea y mejorar la planificación urbana en esta área para contribuir a la reducción de la contaminación atmosférica.\n",
            "\n",
            "En resumen, se evidencia la necesidad de implementar políticas públicas que promuevan una mejor planificación urbana, el aumento de áreas verdes y la conservación de la cobertura arbórea en los parques urbanos de Lima Norte para mejorar la calidad ambiental y la salud de sus habitantes.\n"
          ]
        }
      ]
    },
    {
      "cell_type": "markdown",
      "source": [
        "Evaluación del uso de LLMs en políticas públicas"
      ],
      "metadata": {
        "id": "-nS9FSU7GV64"
      }
    },
    {
      "cell_type": "code",
      "source": [
        "prompt_eval = \"\"\"\n",
        "Analiza críticamente el uso de modelos de lenguaje como GPT-3.5 para el diseño de políticas públicas ambientales.\n",
        "Incluye fortalezas, limitaciones y riesgos.\n",
        "\"\"\"\n",
        "\n",
        "respuesta_eval = ask_gpt_new(prompt_eval)\n",
        "print(respuesta_eval)"
      ],
      "metadata": {
        "colab": {
          "base_uri": "https://localhost:8080/"
        },
        "id": "d8LJ8KLmGWoI",
        "outputId": "c1c4164c-5f05-441f-cdab-c10e8511b255"
      },
      "execution_count": 15,
      "outputs": [
        {
          "output_type": "stream",
          "name": "stdout",
          "text": [
            "El uso de modelos de lenguaje como GPT-3.5 en el diseño de políticas públicas ambientales presenta una serie de consideraciones importantes a tener en cuenta.\n",
            "\n",
            "**Fortalezas:**\n",
            "\n",
            "1. **Generación de ideas y análisis de datos:** Estos modelos pueden ser útiles para generar ideas y analizar grandes cantidades de datos relacionados con el medio ambiente. Pueden ayudar a identificar patrones, tendencias y posibles soluciones a problemas ambientales.\n",
            "\n",
            "2. **Automatización de tareas repetitivas:** Los modelos de lenguaje pueden automatizar tareas repetitivas y tediosas, lo que puede liberar tiempo y recursos para que los expertos se enfoquen en tareas más estratégicas y creativas en el diseño de políticas ambientales.\n",
            "\n",
            "3. **Personalización y adaptación:** Estos modelos pueden ser entrenados con datos específicos relacionados con el medio ambiente, lo que permite personalizar y adaptar las recomendaciones y propuestas de políticas a contextos particulares.\n",
            "\n",
            "**Limitaciones:**\n",
            "\n",
            "1. **Sesgo y falta de contexto:** Los modelos de lenguaje pueden estar sesgados debido a los datos con los que fueron entrenados, lo que podría resultar en recomendaciones o propuestas de políticas públicas sesgadas o incompletas. Además, estos modelos pueden carecer de contexto ambiental específico que solo los expertos en medio ambiente pueden proporcionar.\n",
            "\n",
            "2. **Falta de comprensión profunda:** A pesar de su capacidad para generar texto coherente, los modelos de lenguaje como GPT-3.5 pueden no tener una comprensión profunda de los problemas ambientales y las complejidades asociadas con ellos. Esto podría llevar a recomendaciones superficiales o ineficaces.\n",
            "\n",
            "3. **Responsabilidad y transparencia:** La responsabilidad y transparencia en la toma de decisiones políticas son fundamentales. Sin embargo, los modelos de lenguaje pueden dificultar la identificación de cómo se llegó a una recomendación específica, lo que plantea desafíos en términos de responsabilidad y rendición de cuentas.\n",
            "\n",
            "**Riesgos:**\n",
            "\n",
            "1. **Dependencia excesiva:** Existe el riesgo de depender en exceso de los modelos de lenguaje para la toma de decisiones políticas ambientales, lo que podría limitar la creatividad y el pensamiento crítico de los expertos en el campo.\n",
            "\n",
            "2. **Vulnerabilidad a ataques cibernéticos:** Los modelos de lenguaje están sujetos a vulnerabilidades cibernéticas, lo que podría comprometer la integridad y la confidencialidad de la información utilizada en el diseño de políticas públicas ambientales.\n",
            "\n",
            "En conclusión, si bien los modelos de lenguaje como GPT-3.5 pueden ser herramientas útiles en el diseño de políticas públicas ambientales, es importante tener en cuenta sus fortalezas, limitaciones y riesgos para garantizar que se utilicen de manera ética y efectiva en beneficio del medio ambiente y la sociedad en general. Es fundamental combinar el uso de estas herramientas con el juicio humano y la experiencia de los expertos en medio ambiente para abordar los desafíos ambientales de manera integral y sostenible.\n"
          ]
        }
      ]
    }
  ]
}